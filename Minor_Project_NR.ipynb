{
  "nbformat": 4,
  "nbformat_minor": 0,
  "metadata": {
    "colab": {
      "name": "Minor Project NR.ipynb",
      "provenance": [],
      "mount_file_id": "1UFg5ZAvCR-as2t9-CDDMpVTxw1MQ-9XA",
      "authorship_tag": "ABX9TyO+bv39cIr5Yw/PoRR3Eloh",
      "include_colab_link": true
    },
    "kernelspec": {
      "name": "python3",
      "display_name": "Python 3"
    }
  },
  "cells": [
    {
      "cell_type": "markdown",
      "metadata": {
        "id": "view-in-github",
        "colab_type": "text"
      },
      "source": [
        "<a href=\"https://colab.research.google.com/github/NishantRoy19/Minor-Project-image-recognition/blob/main/Minor_Project_NR.ipynb\" target=\"_parent\"><img src=\"https://colab.research.google.com/assets/colab-badge.svg\" alt=\"Open In Colab\"/></a>"
      ]
    },
    {
      "cell_type": "markdown",
      "metadata": {
        "id": "uvVo6GG5kYAV"
      },
      "source": [
        "#preprocessing the Model"
      ]
    },
    {
      "cell_type": "code",
      "metadata": {
        "id": "DMY_tmaAjKe-"
      },
      "source": [
        "import os\r\n",
        "import matplotlib.pyplot as plt\r\n",
        "import numpy as np\r\n",
        "from skimage.io import imread\r\n",
        "from skimage.transform import resize\r\n",
        "\r\n",
        "target = []\r\n",
        "images = []\r\n",
        "flat_data = []\r\n",
        "\r\n",
        "DATADIR = '/content/drive/MyDrive'\r\n",
        "CATEGORIES = ['Helicopters','Tanks']\r\n",
        "for category in CATEGORIES:\r\n",
        "  class_num = CATEGORIES.index(category)\r\n",
        "  path = os.path.join(DATADIR,category)\r\n",
        "\r\n",
        "  for img in os.listdir(path):\r\n",
        "    img_array = imread(os.path.join(path,img))\r\n",
        "    img_resized = resize(img_array,(150,150,3))\r\n",
        "    flat_data.append(img_resized.flatten())\r\n",
        "    images.append(img_resized)\r\n",
        "    target.append(class_num)\r\n",
        "flat_data = np.array(flat_data)\r\n",
        "target = np.array(target)\r\n",
        "images = np.array(images)"
      ],
      "execution_count": 13,
      "outputs": []
    },
    {
      "cell_type": "markdown",
      "metadata": {
        "id": "JSlB52rJkg97"
      },
      "source": [
        "#Counting the number of data"
      ]
    },
    {
      "cell_type": "code",
      "metadata": {
        "colab": {
          "base_uri": "https://localhost:8080/",
          "height": 282
        },
        "id": "hkOpXGWDjPEU",
        "outputId": "02b40684-19b0-4dc5-fc8f-422174358aaf"
      },
      "source": [
        "unique,count = np.unique(target,return_counts=True)\r\n",
        "plt.bar(CATEGORIES,count)"
      ],
      "execution_count": 14,
      "outputs": [
        {
          "output_type": "execute_result",
          "data": {
            "text/plain": [
              "<BarContainer object of 2 artists>"
            ]
          },
          "metadata": {
            "tags": []
          },
          "execution_count": 14
        },
        {
          "output_type": "display_data",
          "data": {
            "image/png": "[encoded data removed]",
            "text/plain": [
              "<Figure size 432x288 with 1 Axes>"
            ]
          },
          "metadata": {
            "tags": [],
            "needs_background": "light"
          }
        }
      ]
    },
    {
      "cell_type": "markdown",
      "metadata": {
        "id": "GFMb2FIhko1M"
      },
      "source": [
        "#Split data into traning and testing"
      ]
    },
    {
      "cell_type": "code",
      "metadata": {
        "id": "EPB2JnwXjRzT"
      },
      "source": [
        "from sklearn.model_selection import train_test_split\r\n",
        "x_train,x_test,y_train,y_test = train_test_split(flat_data,target,test_size=0.3,random_state=109)"
      ],
      "execution_count": 15,
      "outputs": []
    },
    {
      "cell_type": "code",
      "metadata": {
        "colab": {
          "base_uri": "https://localhost:8080/"
        },
        "id": "t_cYut9CjWlr",
        "outputId": "be36ab1d-798c-469b-fe4b-7488379369a1"
      },
      "source": [
        "from sklearn.model_selection import GridSearchCV\r\n",
        "from sklearn import svm \r\n",
        "param_grid = [\r\n",
        "              {'C':[1,10,100,1000],'kernel':['linear']},\r\n",
        "              {'C':[1,10,100,1000],'gamma':[0.001,0.0001],'kernel':['rbf']},\r\n",
        "]\r\n",
        "svc = svm.SVC(probability=True)\r\n",
        "clf = GridSearchCV(svc,param_grid) \r\n",
        "clf.fit(x_train,y_train)"
      ],
      "execution_count": 16,
      "outputs": [
        {
          "output_type": "execute_result",
          "data": {
            "text/plain": [
              "GridSearchCV(cv=None, error_score=nan,\n",
              "             estimator=SVC(C=1.0, break_ties=False, cache_size=200,\n",
              "                           class_weight=None, coef0=0.0,\n",
              "                           decision_function_shape='ovr', degree=3,\n",
              "                           gamma='scale', kernel='rbf', max_iter=-1,\n",
              "                           probability=True, random_state=None, shrinking=True,\n",
              "                           tol=0.001, verbose=False),\n",
              "             iid='deprecated', n_jobs=None,\n",
              "             param_grid=[{'C': [1, 10, 100, 1000], 'kernel': ['linear']},\n",
              "                         {'C': [1, 10, 100, 1000], 'gamma': [0.001, 0.0001],\n",
              "                          'kernel': ['rbf']}],\n",
              "             pre_dispatch='2*n_jobs', refit=True, return_train_score=False,\n",
              "             scoring=None, verbose=0)"
            ]
          },
          "metadata": {
            "tags": []
          },
          "execution_count": 16
        }
      ]
    },
    {
      "cell_type": "markdown",
      "metadata": {
        "id": "ta6S3cHNkxOt"
      },
      "source": [
        "#Checking "
      ]
    },
    {
      "cell_type": "code",
      "metadata": {
        "colab": {
          "base_uri": "https://localhost:8080/"
        },
        "id": "th7OrlwajXmS",
        "outputId": "288a900b-abe1-400d-b5bf-45cf0c745011"
      },
      "source": [
        "y_pred = clf.predict(x_test)\r\n",
        "y_pred\r\n",
        "\r\n",
        "y_test\r\n",
        "\r\n",
        "a=0\r\n",
        "b=0\r\n",
        "for i in range(len(y_test)):\r\n",
        "  if y_test[i] == y_pred[i]:\r\n",
        "    a=a+1\r\n",
        "  else:\r\n",
        "    b=b+1\r\n",
        "print(\"out of\",len(y_test),a,\"matched and\",b,\"not matched\")"
      ],
      "execution_count": 17,
      "outputs": [
        {
          "output_type": "stream",
          "text": [
            "out of 18 15 matched and 3 not matched\n"
          ],
          "name": "stdout"
        }
      ]
    },
    {
      "cell_type": "code",
      "metadata": {
        "id": "qFLHp2lMji-j"
      },
      "source": [
        "from sklearn.metrics import accuracy_score,confusion_matrix"
      ],
      "execution_count": 18,
      "outputs": []
    },
    {
      "cell_type": "code",
      "metadata": {
        "colab": {
          "base_uri": "https://localhost:8080/"
        },
        "id": "Sf5nG2jSjx2b",
        "outputId": "f7414d26-ae9e-46e1-e3a1-b7df52f27f4d"
      },
      "source": [
        "accuracy_score(y_pred,y_test)"
      ],
      "execution_count": 19,
      "outputs": [
        {
          "output_type": "execute_result",
          "data": {
            "text/plain": [
              "0.8333333333333334"
            ]
          },
          "metadata": {
            "tags": []
          },
          "execution_count": 19
        }
      ]
    },
    {
      "cell_type": "code",
      "metadata": {
        "colab": {
          "base_uri": "https://localhost:8080/"
        },
        "id": "Yx8vaCwcjyrb",
        "outputId": "ca750f66-62fa-440e-b832-97c125dce8c5"
      },
      "source": [
        "confusion_matrix(y_pred,y_test)"
      ],
      "execution_count": 20,
      "outputs": [
        {
          "output_type": "execute_result",
          "data": {
            "text/plain": [
              "array([[10,  2],\n",
              "       [ 1,  5]])"
            ]
          },
          "metadata": {
            "tags": []
          },
          "execution_count": 20
        }
      ]
    },
    {
      "cell_type": "markdown",
      "metadata": {
        "id": "B8TbEMfGk1Cj"
      },
      "source": [
        "#Saving the model"
      ]
    },
    {
      "cell_type": "code",
      "metadata": {
        "id": "GvZIgnQ7j06E"
      },
      "source": [
        "import pickle\r\n",
        "pickle.dump(clf,open('img_model.p','wb'))"
      ],
      "execution_count": null,
      "outputs": []
    },
    {
      "cell_type": "code",
      "metadata": {
        "id": "OHQKXx6uj2u8"
      },
      "source": [
        "model = pickle.load(open('img_model.p','rb'))"
      ],
      "execution_count": null,
      "outputs": []
    },
    {
      "cell_type": "code",
      "metadata": {
        "id": "GkQMmGVKj6Tq"
      },
      "source": [
        "!pip install streamlit\r\n",
        "!pip install pyngrok==4.1.1"
      ],
      "execution_count": null,
      "outputs": []
    },
    {
      "cell_type": "code",
      "metadata": {
        "id": "AFQA81Adj991"
      },
      "source": [
        "from pyngrok import ngrok"
      ],
      "execution_count": null,
      "outputs": []
    },
    {
      "cell_type": "code",
      "metadata": {
        "id": "Bl61eCrOj-oq"
      },
      "source": [
        "%%writefile app.py\r\n",
        "import streamlit as st \r\n",
        "import numpy as np\r\n",
        "from skimage.io import imread\r\n",
        "from skimage.transform import resize\r\n",
        "import pickle\r\n",
        "from PIL import Image\r\n",
        "st.set_option('deprecation.showfileUploaderEncoding', False)\r\n",
        "st.title('Image Classifier using ML')\r\n",
        "st.text('Upload image')\r\n",
        "\r\n",
        "model = pickle.load(open('img_model.p','rb'))\r\n",
        "\r\n",
        "uploaded_file = st.file_uploader(\"choose \", type=\"jpg\")\r\n",
        "if uploaded_file is not None:\r\n",
        "  img = Image.open(uploaded_file)\r\n",
        "  st.image(img,caption='Uploaded Image')\r\n",
        "  if st.button('PREDICT'):\r\n",
        "    CATEGORIES = ['Helicopters','Tanks']\r\n",
        "    st.write(\"result\")\r\n",
        "    flat_data=[]\r\n",
        "    img = np.array(img)\r\n",
        "    img_resized = resize(img,(150,150,3)) # normalizes\r\n",
        "    flat_data.append(img_resized.flatten())\r\n",
        "    flat_data = np.array(flat_data)\r\n",
        "    y_out = model.predict(flat_data)\r\n",
        "    y_out = CATEGORIES[y_out[0]]\r\n",
        "    st.title(f' PREDICTED OUTPUT: {y_out}')"
      ],
      "execution_count": null,
      "outputs": []
    },
    {
      "cell_type": "code",
      "metadata": {
        "id": "wkXiAWTikB06"
      },
      "source": [
        "!nohup streamlit run app.py &\r\n",
        "url = ngrok.connect(port='8501')\r\n",
        "url"
      ],
      "execution_count": null,
      "outputs": []
    }
  ]
}
